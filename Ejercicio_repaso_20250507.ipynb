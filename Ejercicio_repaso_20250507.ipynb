{
  "nbformat": 4,
  "nbformat_minor": 0,
  "metadata": {
    "colab": {
      "provenance": [],
      "include_colab_link": true
    },
    "kernelspec": {
      "name": "python3",
      "display_name": "Python 3"
    },
    "language_info": {
      "name": "python"
    }
  },
  "cells": [
    {
      "cell_type": "markdown",
      "metadata": {
        "id": "view-in-github",
        "colab_type": "text"
      },
      "source": [
        "<a href=\"https://colab.research.google.com/github/CameliaDB/CDB/blob/main/Ejercicio_repaso_20250507.ipynb\" target=\"_parent\"><img src=\"https://colab.research.google.com/assets/colab-badge.svg\" alt=\"Open In Colab\"/></a>"
      ]
    },
    {
      "cell_type": "markdown",
      "source": [
        "<h1>Análisis de Información Personal</h1>\n",
        "\n",
        "<h2>Objetivo:</h2>\n",
        "<p>El objetivo de este ejercicio es aprender a utilizar métodos de strings, variables, tipos de datos y tuplas en Python.</p>\n",
        "\n",
        "<h2>Instrucciones:</h2>\n",
        "<ol>\n",
        "    <li>Solicitar al usuario que ingrese su <strong>nombre completo</strong>.</li>\n",
        "    <li>Solicitar al usuario que ingrese su <strong>edad</strong>.</li>\n",
        "    <li>Solicitar al usuario que ingrese su <strong>ciudad de residencia</strong>.</li>\n",
        "    <li>Crear una <strong>tupla</strong> que almacene el nombre, la edad y la ciudad.</li>\n",
        "    <li>Mostrar los siguientes datos al usuario utilizando métodos de strings y tipos de datos:</li>\n",
        "    <ul>\n",
        "        <li>Nombre en <strong>mayúsculas</strong>.</li>\n",
        "        <li>La <strong>longitud del nombre</strong>.</li>\n",
        "        <li>La edad convertida a <strong>string</strong> y confirmación del tipo de dato.</li>\n",
        "        <li>Ciudad en <strong>minúsculas</strong>.</li>\n",
        "        <li>Primer y último <strong>carácter del nombre</strong>.</li>\n",
        "    </ul>\n",
        "</ol>\n"
      ],
      "metadata": {
        "id": "YIEJo77cXOxf"
      }
    },
    {
      "cell_type": "code",
      "execution_count": 2,
      "metadata": {
        "id": "zj_kFDAnXM2f",
        "colab": {
          "base_uri": "https://localhost:8080/"
        },
        "outputId": "2c8626f0-33b5-449c-d46b-ed9200ca84f5"
      },
      "outputs": [
        {
          "output_type": "stream",
          "name": "stdout",
          "text": [
            "Ingrese su nombre completo: Camelia\n",
            "Ingrese su edad: 43\n",
            "Ingrese su ciudad de residencia: Madrid\n",
            "Nombre en mayúsculas: CAMELIA\n",
            "Longitud del nombre: 7\n",
            "Edad convertida a string y tipo de dato: 43 <class 'str'>\n",
            "Ciudad en minúsculas: madrid\n",
            "Primer y último carácter del nombre: Ca\n"
          ]
        }
      ],
      "source": [
        "string_nombre = input(\"Ingrese su nombre completo: \")\n",
        "string_edad = input(\"Ingrese su edad: \")\n",
        "string_ciudad = input(\"Ingrese su ciudad de residencia: \")\n",
        "\n",
        "tupla = (string_nombre, string_edad, string_ciudad)\n",
        "\n",
        "print(f\"Nombre en mayúsculas: {tupla[0].upper()}\")\n",
        "print(f\"Longitud del nombre: {len(tupla[0])}\")\n",
        "print(f\"Edad convertida a string y tipo de dato: {str(tupla[1])} <class 'str'>\")\n",
        "print(f\"Ciudad en minúsculas: {tupla[2].lower()}\")\n",
        "print(f\"Primer y último carácter del nombre: {tupla[0][0]}{tupla[0][-1]}\")"
      ]
    }
  ]
}